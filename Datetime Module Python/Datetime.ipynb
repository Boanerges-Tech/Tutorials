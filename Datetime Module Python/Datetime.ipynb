{
 "cells": [
  {
   "cell_type": "code",
   "execution_count": 42,
   "metadata": {},
   "outputs": [
    {
     "name": "stdout",
     "output_type": "stream",
     "text": [
      "2020-06-04 08:35:15+00:00\n",
      "Jun 04, 20\n",
      "2020-06-15 00:00:00\n"
     ]
    }
   ],
   "source": [
    "import datetime\n",
    "import pytz\n",
    "\n",
    "#d = datetime. date(2020, 7, 11)\n",
    "#print(d)\n",
    "\n",
    "\n",
    "#td = datetime.date.today()\n",
    "#print(td.day)\n",
    "\n",
    "#print(td.weekday())   #Monday = 0, Sunday = 6\n",
    "#print(td.isoweekday())  #Monday = 1\n",
    "\n",
    "\n",
    "#date + timedelta = date2\n",
    "\n",
    "#tdelta = datetime.timedelta(days=6)\n",
    "#print(td + tdelta)\n",
    "\n",
    "#bday = datetime.date(2021, 6, 28)\n",
    "#print((bday - td).total_seconds())\n",
    "\n",
    "#tm = datetime.time(10, 30, 40, 1000)\n",
    "#print(tm)\n",
    "\n",
    "\n",
    "#dtm = datetime.datetime(2020, 5, 4, 8, 35, 15)\n",
    "#print(dtm)\n",
    "\n",
    "#tdelta = datetime.timedelta(hours=6)\n",
    "#print(dtm + tdelta)\n",
    "\n",
    "\n",
    "#td_today = datetime.datetime.today()\n",
    "#td_now = datetime.datetime.now(tz = pytz.UTC)\n",
    "#td_utcnow = datetime.datetime.utcnow()\n",
    "\n",
    "#print(td_today)\n",
    "#print(td_now)\n",
    "#print(td_utcnow)\n",
    "#\n",
    "d = datetime.datetime(2020, 6, 4, 8, 35, 15, tzinfo = pytz.UTC)\n",
    "print(d)\n",
    "\n",
    "\n",
    "#for tz in pytz.all_timezones:\n",
    "#    print(tz)\n",
    "\n",
    "\n",
    "#print(pytz.country_timezones['in'])\n",
    "\n",
    "#kt = d.astimezone(pytz.timezone('Asia/Kolkata'))\n",
    "#print(kt)\n",
    "\n",
    "\n",
    "print(d.strftime('%b %d, %y'))\n",
    "\n",
    "strdate= 'Jun 15, 20'\n",
    "\n",
    "print(datetime.datetime.strptime(strdate, '%b %d, %y'))"
   ]
  },
  {
   "cell_type": "code",
   "execution_count": null,
   "metadata": {},
   "outputs": [],
   "source": []
  }
 ],
 "metadata": {
  "kernelspec": {
   "display_name": "Python 3",
   "language": "python",
   "name": "python3"
  },
  "language_info": {
   "codemirror_mode": {
    "name": "ipython",
    "version": 3
   },
   "file_extension": ".py",
   "mimetype": "text/x-python",
   "name": "python",
   "nbconvert_exporter": "python",
   "pygments_lexer": "ipython3",
   "version": "3.7.7"
  }
 },
 "nbformat": 4,
 "nbformat_minor": 4
}
