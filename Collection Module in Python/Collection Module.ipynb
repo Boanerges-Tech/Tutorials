{
 "cells": [
  {
   "cell_type": "markdown",
   "metadata": {},
   "source": [
    "### namedtuple"
   ]
  },
  {
   "cell_type": "code",
   "execution_count": 2,
   "metadata": {},
   "outputs": [],
   "source": [
    "from collections import namedtuple"
   ]
  },
  {
   "cell_type": "code",
   "execution_count": 5,
   "metadata": {},
   "outputs": [
    {
     "name": "stdout",
     "output_type": "stream",
     "text": [
      "courses(name='data science', technology='python')\n"
     ]
    },
    {
     "data": {
      "text/plain": [
       "OrderedDict([('name', 'data science'), ('technology', 'python')])"
      ]
     },
     "execution_count": 5,
     "metadata": {},
     "output_type": "execute_result"
    }
   ],
   "source": [
    "x = namedtuple('courses','name, technology')\n",
    "\n",
    "t = x('data science', 'python')\n",
    "\n",
    "print(t)\n",
    "\n",
    "t._asdict()"
   ]
  },
  {
   "cell_type": "code",
   "execution_count": 6,
   "metadata": {},
   "outputs": [
    {
     "name": "stdout",
     "output_type": "stream",
     "text": [
      "courses(name='DDBMS', technology='SQL')\n"
     ]
    }
   ],
   "source": [
    "l = ['DDBMS', 'SQL']\n",
    "\n",
    "print(x._make(l))"
   ]
  },
  {
   "cell_type": "code",
   "execution_count": null,
   "metadata": {},
   "outputs": [],
   "source": []
  },
  {
   "cell_type": "code",
   "execution_count": null,
   "metadata": {},
   "outputs": [],
   "source": []
  },
  {
   "cell_type": "markdown",
   "metadata": {},
   "source": [
    "### deque"
   ]
  },
  {
   "cell_type": "code",
   "execution_count": 7,
   "metadata": {},
   "outputs": [],
   "source": [
    "from collections import deque"
   ]
  },
  {
   "cell_type": "code",
   "execution_count": 11,
   "metadata": {},
   "outputs": [
    {
     "name": "stdout",
     "output_type": "stream",
     "text": [
      "deque(['Python Modules', 'r', 'i', 'f', 'i', 'n', 'd', 'e', 'r'])\n",
      "deque(['r', 'i', 'f', 'i', 'n', 'd', 'e', 'r'])\n"
     ]
    }
   ],
   "source": [
    "a = ['r','i','f','i','n','d','e','r']\n",
    "a = deque(a)\n",
    "\n",
    "a.appendleft('Python Modules')\n",
    "\n",
    "print(a)\n",
    "\n",
    "a.popleft()\n",
    "\n",
    "print(a)\n"
   ]
  },
  {
   "cell_type": "code",
   "execution_count": null,
   "metadata": {},
   "outputs": [],
   "source": []
  },
  {
   "cell_type": "code",
   "execution_count": null,
   "metadata": {},
   "outputs": [],
   "source": []
  },
  {
   "cell_type": "markdown",
   "metadata": {},
   "source": [
    "### ChainMap"
   ]
  },
  {
   "cell_type": "code",
   "execution_count": 12,
   "metadata": {},
   "outputs": [],
   "source": [
    "from collections import ChainMap"
   ]
  },
  {
   "cell_type": "code",
   "execution_count": 20,
   "metadata": {},
   "outputs": [
    {
     "name": "stdout",
     "output_type": "stream",
     "text": [
      "['b', 'd', 'a']\n"
     ]
    }
   ],
   "source": [
    "baseline = {'a': 'value1', 'b': 'value2'}\n",
    "adjustments = {'b': 'value3', 'd': 'value4'}\n",
    "\n",
    "cm = ChainMap(baseline,adjustments)\n",
    "\n",
    "print(list(cm))"
   ]
  },
  {
   "cell_type": "code",
   "execution_count": null,
   "metadata": {},
   "outputs": [],
   "source": []
  },
  {
   "cell_type": "code",
   "execution_count": null,
   "metadata": {},
   "outputs": [],
   "source": []
  },
  {
   "cell_type": "markdown",
   "metadata": {},
   "source": [
    "### Counter"
   ]
  },
  {
   "cell_type": "code",
   "execution_count": 21,
   "metadata": {},
   "outputs": [],
   "source": [
    "from collections import Counter"
   ]
  },
  {
   "cell_type": "code",
   "execution_count": 29,
   "metadata": {},
   "outputs": [
    {
     "name": "stdout",
     "output_type": "stream",
     "text": [
      "Counter({4: 5, 2: 4, 8: 4, 5: 3, 6: 3, 7: 2, 0: 2, 3: 2, 1: 1, 9: 1})\n",
      "[2, 2, 2, 2, 4, 4, 4, 4, 4, 5, 5, 5, 7, 7, 8, 8, 8, 8, 1, 9, 0, 0, 6, 6, 6, 3, 3]\n",
      "[(4, 5), (2, 4), (8, 4), (5, 3), (6, 3), (7, 2), (0, 2), (3, 2), (1, 1), (9, 1)]\n",
      "Counter({2: 4, 4: 3, 5: 3, 7: 2, 0: 2, 6: 2, 3: 2, 8: 1, 1: 1, 9: 1})\n"
     ]
    }
   ],
   "source": [
    "a = [2,2,4,5,7,8,2,1,4,9,0,6,4,4,5,6,7,8,8,3,2,8,3,6,4,5,0]\n",
    "\n",
    "print(Counter(a))\n",
    "c = Counter(a)\n",
    "\n",
    "\n",
    "#Element Func\n",
    "\n",
    "print(list(c.elements()))\n",
    "\n",
    "#Most Common Func\n",
    "\n",
    "print(c.most_common())\n",
    "\n",
    "\n",
    "#Subtract Func\n",
    "s = {4:2,8:3,6:1}\n",
    "c.subtract(s)\n",
    "\n",
    "print(c)\n"
   ]
  },
  {
   "cell_type": "code",
   "execution_count": null,
   "metadata": {},
   "outputs": [],
   "source": []
  },
  {
   "cell_type": "code",
   "execution_count": null,
   "metadata": {},
   "outputs": [],
   "source": []
  },
  {
   "cell_type": "markdown",
   "metadata": {},
   "source": [
    "### OrderedDict"
   ]
  },
  {
   "cell_type": "code",
   "execution_count": 30,
   "metadata": {},
   "outputs": [],
   "source": [
    "from collections import OrderedDict"
   ]
  },
  {
   "cell_type": "code",
   "execution_count": 39,
   "metadata": {},
   "outputs": [
    {
     "name": "stdout",
     "output_type": "stream",
     "text": [
      "OrderedDict([(1, 'r'), (2, 'i'), (3, 'f'), (4, 'i'), (5, 'n'), (6, 'd'), (7, 'e'), (8, 'r')])\n",
      "odict_items([(1, 'r'), (2, 'i'), (3, 'f'), (4, 'i'), (5, 'n'), (6, 'd'), (7, 'e'), (8, 'r')])\n"
     ]
    }
   ],
   "source": [
    "d = OrderedDict()\n",
    "\n",
    "d[1] = 'r'\n",
    "d[2] = 'i'\n",
    "\n",
    "d[3] = 'f'\n",
    "d[4] = 'i'\n",
    "d[5] = 'n'\n",
    "d[6] = 'd'\n",
    "d[7] = 'e'\n",
    "d[8] = 'r'\n",
    "\n",
    "print(d)\n",
    "\n",
    "print(d.items())"
   ]
  },
  {
   "cell_type": "code",
   "execution_count": null,
   "metadata": {},
   "outputs": [],
   "source": []
  },
  {
   "cell_type": "code",
   "execution_count": null,
   "metadata": {},
   "outputs": [],
   "source": []
  },
  {
   "cell_type": "markdown",
   "metadata": {},
   "source": [
    "### defaultdict"
   ]
  },
  {
   "cell_type": "code",
   "execution_count": 40,
   "metadata": {},
   "outputs": [],
   "source": [
    "from collections import defaultdict"
   ]
  },
  {
   "cell_type": "code",
   "execution_count": 46,
   "metadata": {},
   "outputs": [
    {
     "ename": "KeyError",
     "evalue": "4",
     "output_type": "error",
     "traceback": [
      "\u001b[1;31m---------------------------------------------------------------------------\u001b[0m",
      "\u001b[1;31mKeyError\u001b[0m                                  Traceback (most recent call last)",
      "\u001b[1;32m<ipython-input-46-1ed59c199a94>\u001b[0m in \u001b[0;36m<module>\u001b[1;34m\u001b[0m\n\u001b[0;32m      1\u001b[0m \u001b[0mx\u001b[0m \u001b[1;33m=\u001b[0m \u001b[1;33m{\u001b[0m\u001b[1;36m1\u001b[0m\u001b[1;33m:\u001b[0m\u001b[1;34m'RiFinder'\u001b[0m\u001b[1;33m,\u001b[0m \u001b[1;36m2\u001b[0m\u001b[1;33m:\u001b[0m\u001b[1;34m'Python'\u001b[0m\u001b[1;33m,\u001b[0m \u001b[1;36m3\u001b[0m\u001b[1;33m:\u001b[0m\u001b[1;34m'Collections'\u001b[0m\u001b[1;33m}\u001b[0m\u001b[1;33m\u001b[0m\u001b[1;33m\u001b[0m\u001b[0m\n\u001b[0;32m      2\u001b[0m \u001b[1;33m\u001b[0m\u001b[0m\n\u001b[1;32m----> 3\u001b[1;33m \u001b[0mprint\u001b[0m\u001b[1;33m(\u001b[0m\u001b[0mx\u001b[0m\u001b[1;33m[\u001b[0m\u001b[1;36m4\u001b[0m\u001b[1;33m]\u001b[0m\u001b[1;33m)\u001b[0m\u001b[1;33m\u001b[0m\u001b[1;33m\u001b[0m\u001b[0m\n\u001b[0m",
      "\u001b[1;31mKeyError\u001b[0m: 4"
     ]
    }
   ],
   "source": [
    "x = {1:'RiFinder', 2:'Python', 3:'Collections'}\n",
    "\n",
    "print(x[4])"
   ]
  },
  {
   "cell_type": "code",
   "execution_count": 55,
   "metadata": {},
   "outputs": [
    {
     "name": "stdout",
     "output_type": "stream",
     "text": [
      "[]\n"
     ]
    }
   ],
   "source": [
    "y = defaultdict(list)\n",
    "\n",
    "y[1] = 'RiFinder'\n",
    "y[2] = 'python'\n",
    "\n",
    "print(y[3])"
   ]
  },
  {
   "cell_type": "code",
   "execution_count": null,
   "metadata": {},
   "outputs": [],
   "source": []
  }
 ],
 "metadata": {
  "kernelspec": {
   "display_name": "Python 3",
   "language": "python",
   "name": "python3"
  },
  "language_info": {
   "codemirror_mode": {
    "name": "ipython",
    "version": 3
   },
   "file_extension": ".py",
   "mimetype": "text/x-python",
   "name": "python",
   "nbconvert_exporter": "python",
   "pygments_lexer": "ipython3",
   "version": "3.7.7"
  }
 },
 "nbformat": 4,
 "nbformat_minor": 4
}
