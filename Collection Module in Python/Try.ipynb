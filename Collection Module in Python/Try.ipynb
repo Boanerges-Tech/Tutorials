{
 "cells": [
  {
   "cell_type": "code",
   "execution_count": null,
   "metadata": {},
   "outputs": [],
   "source": [
    "import csv\n",
    "import numpy as np\n",
    "from matplotlib import pyplot as plt\n",
    "from collections import Counter\n",
    "import io\n",
    "\n",
    "plt.style.use(\"fivethirtyeight\")\n",
    "\n",
    "#open('jobs_at_naukri.csv')\n",
    "\n",
    "with io.open(\"jobs_at_naukri.csv\", \"r\", encoding=\"utf-8\") as csv_file:\n",
    "    csv_reader = csv.DictReader(csv_file)\n",
    "    \n",
    "    fa_counter = Counter()\n",
    "    \n",
    "    #row = next(csv_reader)\n",
    "    #print(row['Functional Area'].split(\" , \"))\n",
    "    \n",
    "    for row in csv_reader:\n",
    "        fa_counter.update(row['Functional Area'].split(\" , \"))\n",
    "#print(fa_counter)\n",
    "\n",
    "job_sector = []\n",
    "total_employee = []\n",
    "\n",
    "for count in fa_counter.most_common(10):\n",
    "    job_sector.append(count[0])\n",
    "    total_employee.append(count[1])\n",
    "    \n",
    "#print(job_sector, total_employee)\n",
    "\n",
    "job_sector.reverse()\n",
    "total_employee.reverse()\n",
    "\n",
    "\n",
    "plt.barh(job_sector, total_employee)\n",
    "\n",
    "plt.title(\"Most Common Jobs\")\n",
    "plt.ylabel(\"Job Sector\")\n",
    "plt.xlabel(\"No. of Employee\")\n",
    "\n",
    "plt.show()"
   ]
  }
 ],
 "metadata": {
  "kernelspec": {
   "display_name": "Python 3",
   "language": "python",
   "name": "python3"
  },
  "language_info": {
   "codemirror_mode": {
    "name": "ipython",
    "version": 3
   },
   "file_extension": ".py",
   "mimetype": "text/x-python",
   "name": "python",
   "nbconvert_exporter": "python",
   "pygments_lexer": "ipython3",
   "version": "3.7.7"
  }
 },
 "nbformat": 4,
 "nbformat_minor": 4
}
