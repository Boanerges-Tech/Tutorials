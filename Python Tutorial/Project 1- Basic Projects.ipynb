{
 "cells": [
  {
   "cell_type": "markdown",
   "metadata": {},
   "source": [
    "Project:1 = palindrome"
   ]
  },
  {
   "cell_type": "code",
   "execution_count": 4,
   "metadata": {},
   "outputs": [
    {
     "name": "stdout",
     "output_type": "stream",
     "text": [
      "enter text 10801\n",
      "True\n"
     ]
    }
   ],
   "source": [
    "s = input(\"enter text \")\n",
    "\n",
    "#reversing the text\n",
    "sr = s[::-1]\n",
    "\n",
    "if s == sr:\n",
    "    print(\"True\")\n",
    "else:\n",
    "    print(\"False\")"
   ]
  },
  {
   "cell_type": "markdown",
   "metadata": {},
   "source": [
    "Project:2 = Fibonacci Sequence"
   ]
  },
  {
   "cell_type": "code",
   "execution_count": 12,
   "metadata": {},
   "outputs": [
    {
     "name": "stdout",
     "output_type": "stream",
     "text": [
      "How many numbers do you want? 15\n",
      "Printing fibonacci Series...\n",
      "0 1 1 2 3 5 8 13 21 34 55 89 144 233 377 "
     ]
    }
   ],
   "source": [
    "n = int(input(\"How many numbers do you want? \"))\n",
    "\n",
    "n1, n2 = 0, 1\n",
    "count = 0\n",
    "\n",
    "\n",
    "#Print the series\n",
    "print(\"Printing fibonacci Series...\")\n",
    "\n",
    "if n < 1:\n",
    "    print(\"Please enter a positive number\")\n",
    "    \n",
    "elif n == 1:\n",
    "    print(n1)\n",
    "    \n",
    "elif n == 2:\n",
    "    print(n2)\n",
    "    \n",
    "else:\n",
    "    while count < n:\n",
    "        print(n1,end=\" \")\n",
    "        nth = n1 + n2\n",
    "        n1 = n2\n",
    "        n2 = nth\n",
    "        count += 1"
   ]
  },
  {
   "cell_type": "markdown",
   "metadata": {},
   "source": [
    "Project:3 = Prime Numbers"
   ]
  },
  {
   "cell_type": "code",
   "execution_count": 17,
   "metadata": {},
   "outputs": [
    {
     "name": "stdout",
     "output_type": "stream",
     "text": [
      "Enter the number: 19\n",
      "19 is prime number\n"
     ]
    }
   ],
   "source": [
    "num = int(input(\"Enter the number: \"))  #7\n",
    "\n",
    "#check fo the prime\n",
    "for i in range(2,num):\n",
    "    if num % i == 0:\n",
    "        print(num, \"is not a prime number\")\n",
    "        break\n",
    "else:\n",
    "    print(num, \"is prime number\")"
   ]
  },
  {
   "cell_type": "code",
   "execution_count": null,
   "metadata": {},
   "outputs": [],
   "source": []
  }
 ],
 "metadata": {
  "kernelspec": {
   "display_name": "Python 3",
   "language": "python",
   "name": "python3"
  },
  "language_info": {
   "codemirror_mode": {
    "name": "ipython",
    "version": 3
   },
   "file_extension": ".py",
   "mimetype": "text/x-python",
   "name": "python",
   "nbconvert_exporter": "python",
   "pygments_lexer": "ipython3",
   "version": "3.7.4"
  }
 },
 "nbformat": 4,
 "nbformat_minor": 2
}
