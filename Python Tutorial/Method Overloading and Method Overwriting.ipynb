{
 "cells": [
  {
   "cell_type": "markdown",
   "metadata": {},
   "source": [
    "**Method Overloading and Method Overwriting**"
   ]
  },
  {
   "cell_type": "code",
   "execution_count": 8,
   "metadata": {},
   "outputs": [
    {
     "name": "stdout",
     "output_type": "stream",
     "text": [
      "None\n"
     ]
    }
   ],
   "source": [
    "class A:\n",
    "    def sum(self,a=None, b=None,c=None):\n",
    "        s = 0\n",
    "        \n",
    "        if a!=None and b!=None and c!=None:\n",
    "            s = a + b + c\n",
    "        elif a!=None and b!=None:\n",
    "            s = a + b\n",
    "        else:\n",
    "            s = a\n",
    "            \n",
    "        return s\n",
    "    \n",
    "num = A()\n",
    "print(num.sum())"
   ]
  },
  {
   "cell_type": "code",
   "execution_count": 11,
   "metadata": {},
   "outputs": [
    {
     "name": "stdout",
     "output_type": "stream",
     "text": [
      "In class B\n"
     ]
    }
   ],
   "source": [
    "class A:\n",
    "    def details(self):\n",
    "        print(\"In class A\")\n",
    "        \n",
    "class B(A):\n",
    "    def details(self):\n",
    "        print(\"In class B\")\n",
    "\n",
    "s = B()\n",
    "s.details()"
   ]
  },
  {
   "cell_type": "code",
   "execution_count": null,
   "metadata": {},
   "outputs": [],
   "source": []
  }
 ],
 "metadata": {
  "kernelspec": {
   "display_name": "Python 3",
   "language": "python",
   "name": "python3"
  },
  "language_info": {
   "codemirror_mode": {
    "name": "ipython",
    "version": 3
   },
   "file_extension": ".py",
   "mimetype": "text/x-python",
   "name": "python",
   "nbconvert_exporter": "python",
   "pygments_lexer": "ipython3",
   "version": "3.7.4"
  }
 },
 "nbformat": 4,
 "nbformat_minor": 2
}
