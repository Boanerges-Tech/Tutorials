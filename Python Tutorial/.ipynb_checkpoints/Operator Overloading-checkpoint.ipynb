{
 "cells": [
  {
   "cell_type": "code",
   "execution_count": 3,
   "metadata": {},
   "outputs": [
    {
     "name": "stdout",
     "output_type": "stream",
     "text": [
      "rifinder diptam\n"
     ]
    }
   ],
   "source": [
    "class A:\n",
    "    def __init__(self, a):\n",
    "        self.a = a\n",
    "    def __add__(self, other):\n",
    "        return self.a + other.a\n",
    "    \n",
    "obj1 = A('rifinder ')\n",
    "obj2 = A('diptam')\n",
    "\n",
    "print(obj1 + obj2)"
   ]
  },
  {
   "cell_type": "code",
   "execution_count": 5,
   "metadata": {},
   "outputs": [
    {
     "name": "stdout",
     "output_type": "stream",
     "text": [
      "obj2 is less than obj1\n",
      "None\n"
     ]
    }
   ],
   "source": [
    "class A:\n",
    "    def __init__(self, a):\n",
    "        self.a = a\n",
    "    def __lt__(self, other):\n",
    "        if self.a < other.a:\n",
    "            print(\"obj1 is less than obj2\")\n",
    "        else:\n",
    "            print(\"obj2 is less than obj1\")\n",
    "    \n",
    "obj1 = A(3)\n",
    "obj2 = A(1)\n",
    "\n",
    "print(obj1 < obj2)"
   ]
  },
  {
   "cell_type": "code",
   "execution_count": null,
   "metadata": {},
   "outputs": [],
   "source": []
  }
 ],
 "metadata": {
  "kernelspec": {
   "display_name": "Python 3",
   "language": "python",
   "name": "python3"
  },
  "language_info": {
   "codemirror_mode": {
    "name": "ipython",
    "version": 3
   },
   "file_extension": ".py",
   "mimetype": "text/x-python",
   "name": "python",
   "nbconvert_exporter": "python",
   "pygments_lexer": "ipython3",
   "version": "3.7.4"
  }
 },
 "nbformat": 4,
 "nbformat_minor": 2
}
