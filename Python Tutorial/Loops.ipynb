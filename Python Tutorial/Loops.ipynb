{
 "cells": [
  {
   "cell_type": "code",
   "execution_count": 21,
   "metadata": {},
   "outputs": [],
   "source": [
    "x = 3"
   ]
  },
  {
   "cell_type": "code",
   "execution_count": 22,
   "metadata": {},
   "outputs": [],
   "source": [
    "remainder = x % 2"
   ]
  },
  {
   "cell_type": "code",
   "execution_count": 23,
   "metadata": {},
   "outputs": [
    {
     "data": {
      "text/plain": [
       "1"
      ]
     },
     "execution_count": 23,
     "metadata": {},
     "output_type": "execute_result"
    }
   ],
   "source": [
    "remainder"
   ]
  },
  {
   "cell_type": "code",
   "execution_count": 27,
   "metadata": {},
   "outputs": [
    {
     "name": "stdout",
     "output_type": "stream",
     "text": [
      "odd\n",
      "Small\n",
      "number\n"
     ]
    }
   ],
   "source": [
    "if remainder == 1:\n",
    "    print(\"odd\")\n",
    "    \n",
    "    if remainder < 10:\n",
    "        print(\"Small\")\n",
    "    else:\n",
    "        print(\"Large\")\n",
    "    \n",
    "else:\n",
    "    print(\"even\")\n",
    "    \n",
    "    \n",
    "print(\"number\")"
   ]
  },
  {
   "cell_type": "code",
   "execution_count": 39,
   "metadata": {},
   "outputs": [],
   "source": [
    "a = 5"
   ]
  },
  {
   "cell_type": "code",
   "execution_count": 40,
   "metadata": {},
   "outputs": [
    {
     "name": "stdout",
     "output_type": "stream",
     "text": [
      "Wrong Choice\n"
     ]
    }
   ],
   "source": [
    "if a == 1:\n",
    "    print(\"a is equals to 1\")\n",
    "    \n",
    "elif a == 2:\n",
    "    print(\"a is equals to 2\")\n",
    "    \n",
    "elif a == 3:\n",
    "    print(\"a is equals to 3\")\n",
    "    \n",
    "elif a == 4:\n",
    "    print(\"a is equals to 4\")\n",
    "    \n",
    "else:\n",
    "    print(\"Wrong Choice\")"
   ]
  },
  {
   "cell_type": "code",
   "execution_count": null,
   "metadata": {},
   "outputs": [],
   "source": []
  },
  {
   "cell_type": "code",
   "execution_count": null,
   "metadata": {},
   "outputs": [],
   "source": []
  },
  {
   "cell_type": "code",
   "execution_count": null,
   "metadata": {},
   "outputs": [],
   "source": [
    "#Hi Diptam Diptam Diptam Diptam\n",
    "#Hi Diptam Diptam Diptam Diptam\n",
    "#Hi Diptam Diptam Diptam Diptam\n",
    "#Hi Diptam Diptam Diptam Diptam\n",
    ".\n",
    ".\n",
    ".\n",
    ".\n"
   ]
  },
  {
   "cell_type": "code",
   "execution_count": null,
   "metadata": {},
   "outputs": [],
   "source": []
  },
  {
   "cell_type": "code",
   "execution_count": null,
   "metadata": {},
   "outputs": [],
   "source": []
  },
  {
   "cell_type": "code",
   "execution_count": null,
   "metadata": {},
   "outputs": [],
   "source": []
  },
  {
   "cell_type": "code",
   "execution_count": 42,
   "metadata": {},
   "outputs": [
    {
     "name": "stdout",
     "output_type": "stream",
     "text": [
      "Hi\n",
      "Hi\n"
     ]
    }
   ],
   "source": [
    "print(\"Hi\")\n",
    "print(\"Hi\")"
   ]
  },
  {
   "cell_type": "code",
   "execution_count": 50,
   "metadata": {},
   "outputs": [
    {
     "name": "stdout",
     "output_type": "stream",
     "text": [
      "Hi Diptam Diptam Diptam Diptam \n",
      "Hi Diptam Diptam Diptam Diptam \n",
      "Hi Diptam Diptam Diptam Diptam \n",
      "Hi Diptam Diptam Diptam Diptam \n",
      "Hi Diptam Diptam Diptam Diptam \n",
      "Hi Diptam Diptam Diptam Diptam \n",
      "Hi Diptam Diptam Diptam Diptam \n",
      "Hi Diptam Diptam Diptam Diptam \n",
      "Hi Diptam Diptam Diptam Diptam \n",
      "Hi Diptam Diptam Diptam Diptam \n"
     ]
    }
   ],
   "source": [
    "x = 0\n",
    "\n",
    "\n",
    "while x < 10:\n",
    "    print(\"Hi \",end=\"\")\n",
    "    y = 0\n",
    "    while y < 4:\n",
    "        print(\"Diptam \",end=\"\")\n",
    "        \n",
    "        y += 1\n",
    "    \n",
    "    x += 1\n",
    "    print()\n",
    "    #0-9 Total 10"
   ]
  },
  {
   "cell_type": "code",
   "execution_count": null,
   "metadata": {},
   "outputs": [],
   "source": []
  }
 ],
 "metadata": {
  "kernelspec": {
   "display_name": "Python 3",
   "language": "python",
   "name": "python3"
  },
  "language_info": {
   "codemirror_mode": {
    "name": "ipython",
    "version": 3
   },
   "file_extension": ".py",
   "mimetype": "text/x-python",
   "name": "python",
   "nbconvert_exporter": "python",
   "pygments_lexer": "ipython3",
   "version": "3.7.4"
  }
 },
 "nbformat": 4,
 "nbformat_minor": 2
}
