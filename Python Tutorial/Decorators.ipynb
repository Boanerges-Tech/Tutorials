{
 "cells": [
  {
   "cell_type": "code",
   "execution_count": 6,
   "metadata": {},
   "outputs": [
    {
     "name": "stdout",
     "output_type": "stream",
     "text": [
      "This is before the function execution\n",
      "This is inside the function\n",
      "This is after the function execution\n"
     ]
    }
   ],
   "source": [
    "def hello_decorator(func):\n",
    "    \n",
    "    def inner():\n",
    "        print(\"This is before the function execution\")\n",
    "        func()\n",
    "        print(\"This is after the function execution\")\n",
    "        \n",
    "    return inner\n",
    "\n",
    "def hello():\n",
    "    print(\"This is inside the function\")\n",
    "    \n",
    "hello = hello_decorator(hello)\n",
    "hello()"
   ]
  },
  {
   "cell_type": "code",
   "execution_count": 15,
   "metadata": {},
   "outputs": [
    {
     "name": "stdout",
     "output_type": "stream",
     "text": [
      "3.0\n"
     ]
    }
   ],
   "source": [
    "def division_decorator(function):\n",
    "    \n",
    "    def inner(a,b):\n",
    "        if a < b:\n",
    "            a,b = b,a\n",
    "        return function(a,b)\n",
    "    return inner\n",
    "\n",
    "def division(a,b):\n",
    "    print(a/b)\n",
    "    \n",
    "division = division_decorator(division)\n",
    "division(6,2)"
   ]
  },
  {
   "cell_type": "code",
   "execution_count": null,
   "metadata": {},
   "outputs": [],
   "source": []
  }
 ],
 "metadata": {
  "kernelspec": {
   "display_name": "Python 3",
   "language": "python",
   "name": "python3"
  },
  "language_info": {
   "codemirror_mode": {
    "name": "ipython",
    "version": 3
   },
   "file_extension": ".py",
   "mimetype": "text/x-python",
   "name": "python",
   "nbconvert_exporter": "python",
   "pygments_lexer": "ipython3",
   "version": "3.7.4"
  }
 },
 "nbformat": 4,
 "nbformat_minor": 2
}
