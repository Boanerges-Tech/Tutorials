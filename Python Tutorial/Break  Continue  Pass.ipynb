{
 "cells": [
  {
   "cell_type": "markdown",
   "metadata": {},
   "source": [
    "Break | Continue | Pass"
   ]
  },
  {
   "cell_type": "code",
   "execution_count": 8,
   "metadata": {},
   "outputs": [
    {
     "name": "stdout",
     "output_type": "stream",
     "text": [
      "How many chocolates do you want?10000000\n",
      "Giving Chocolate\n",
      "Giving Chocolate\n",
      "Bye\n"
     ]
    }
   ],
   "source": [
    "c = int(input(\"How many chocolates do you want?\"))\n",
    "\n",
    "i = 1\n",
    "limit = 2\n",
    "while i <= c:\n",
    "    if i > limit:\n",
    "        break\n",
    "    \n",
    "    print(\"Giving Chocolate\")\n",
    "    \n",
    "    i += 1\n",
    "print(\"Bye\")\n",
    "    "
   ]
  },
  {
   "cell_type": "code",
   "execution_count": 13,
   "metadata": {},
   "outputs": [
    {
     "name": "stdout",
     "output_type": "stream",
     "text": [
      "Even Numbers 0\n",
      "Even Numbers 2\n",
      "Even Numbers 4\n",
      "Even Numbers 6\n",
      "Even Numbers 8\n"
     ]
    }
   ],
   "source": [
    "for i in range(10):\n",
    "    if i%2!=0:\n",
    "        continue\n",
    "    \n",
    "    print(\"Even Numbers \",end=\"\")\n",
    "    print(i)"
   ]
  },
  {
   "cell_type": "code",
   "execution_count": 15,
   "metadata": {},
   "outputs": [
    {
     "name": "stdout",
     "output_type": "stream",
     "text": [
      "Even Numbers 0\n",
      "Even Numbers 1\n",
      "Even Numbers 2\n",
      "Even Numbers 3\n",
      "Even Numbers 4\n",
      "Even Numbers 5\n",
      "Even Numbers 6\n",
      "Even Numbers 7\n",
      "Even Numbers 8\n",
      "Even Numbers 9\n"
     ]
    }
   ],
   "source": [
    "for i in range(10):\n",
    "    if i%2!=0:\n",
    "        pass\n",
    "    \n",
    "    print(\"Even Numbers \",end=\"\")\n",
    "    print(i)"
   ]
  },
  {
   "cell_type": "code",
   "execution_count": null,
   "metadata": {},
   "outputs": [],
   "source": []
  }
 ],
 "metadata": {
  "kernelspec": {
   "display_name": "Python 3",
   "language": "python",
   "name": "python3"
  },
  "language_info": {
   "codemirror_mode": {
    "name": "ipython",
    "version": 3
   },
   "file_extension": ".py",
   "mimetype": "text/x-python",
   "name": "python",
   "nbconvert_exporter": "python",
   "pygments_lexer": "ipython3",
   "version": "3.7.4"
  }
 },
 "nbformat": 4,
 "nbformat_minor": 2
}
